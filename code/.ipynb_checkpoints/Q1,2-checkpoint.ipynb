{
 "cells": [
  {
   "cell_type": "code",
   "execution_count": null,
   "metadata": {},
   "outputs": [],
   "source": [
    "from keras import Sequential                             #importing all required libraries from keras\n",
    "from keras.datasets import mnist                          #getting dataset from mnist\n",
    "import numpy as np\n",
    "import matplotlib.pyplot as plt\n",
    "from keras.layers import Dense\n",
    "from keras.utils import to_categorical\n",
    "(train_images,train_labels),(test_images, test_labels) = mnist.load_data()\n",
    "#display the first image in the testing data\n",
    "plt.imshow(test_images[0,:,:],cmap='gray')\n",
    "plt.title('Ground Truth : {}'.format(test_labels[0]))\n",
    "plt.show()\n",
    "#process the data\n",
    "#1. convert each image of shape 28*28 to 784 dimensional which will be fed to the network as a single feature\n",
    "dimData = np.prod(train_images.shape[1:])\n",
    "train_data = train_images.reshape(train_images.shape[0],dimData)\n",
    "test_data = test_images.reshape(test_images.shape[0],dimData)"
   ]
  },
  {
   "cell_type": "code",
   "execution_count": 4,
   "metadata": {},
   "outputs": [],
   "source": [
    "#convert data to float and scale values between 0 and 1\n",
    "train_data = train_data.astype('float')\n",
    "test_data = test_data.astype('float')\n",
    "#scale data as input data contains from 0-255\n",
    "train_data /=255.0\n",
    "test_data /=255.0"
   ]
  },
  {
   "cell_type": "code",
   "execution_count": 5,
   "metadata": {},
   "outputs": [
    {
     "data": {
      "text/plain": [
       "array([[0., 0., 0., ..., 0., 0., 0.],\n",
       "       [0., 0., 0., ..., 0., 0., 0.],\n",
       "       [0., 0., 0., ..., 0., 0., 0.],\n",
       "       ...,\n",
       "       [0., 0., 0., ..., 0., 0., 0.],\n",
       "       [0., 0., 0., ..., 0., 0., 0.],\n",
       "       [0., 0., 0., ..., 0., 0., 0.]])"
      ]
     },
     "execution_count": 5,
     "metadata": {},
     "output_type": "execute_result"
    }
   ],
   "source": [
    "train_data"
   ]
  },
  {
   "cell_type": "code",
   "execution_count": 6,
   "metadata": {},
   "outputs": [],
   "source": [
    "#change the labels frominteger to one-hot encoding\n",
    "train_labels_one_hot = to_categorical(train_labels)\n",
    "test_labels_one_hot = to_categorical(test_labels)"
   ]
  },
  {
   "cell_type": "code",
   "execution_count": 7,
   "metadata": {},
   "outputs": [
    {
     "data": {
      "text/plain": [
       "array([[0., 0., 0., ..., 0., 0., 0.],\n",
       "       [1., 0., 0., ..., 0., 0., 0.],\n",
       "       [0., 0., 0., ..., 0., 0., 0.],\n",
       "       ...,\n",
       "       [0., 0., 0., ..., 0., 0., 0.],\n",
       "       [0., 0., 0., ..., 0., 0., 0.],\n",
       "       [0., 0., 0., ..., 0., 1., 0.]], dtype=float32)"
      ]
     },
     "execution_count": 7,
     "metadata": {},
     "output_type": "execute_result"
    }
   ],
   "source": [
    "train_labels_one_hot"
   ]
  },
  {
   "cell_type": "code",
   "execution_count": 9,
   "metadata": {
    "scrolled": true
   },
   "outputs": [
    {
     "name": "stdout",
     "output_type": "stream",
     "text": [
      "Epoch 1/20\n",
      "235/235 [==============================] - 6s 24ms/step - loss: 0.5075 - accuracy: 0.8402 - val_loss: 0.2152 - val_accuracy: 0.9322\n",
      "Epoch 2/20\n",
      "235/235 [==============================] - 5s 23ms/step - loss: 0.1007 - accuracy: 0.9671 - val_loss: 0.1666 - val_accuracy: 0.9484\n",
      "Epoch 3/20\n",
      "235/235 [==============================] - 6s 26ms/step - loss: 0.0619 - accuracy: 0.9803 - val_loss: 0.0765 - val_accuracy: 0.9780\n",
      "Epoch 4/20\n",
      "235/235 [==============================] - 5s 23ms/step - loss: 0.0384 - accuracy: 0.9869 - val_loss: 0.0907 - val_accuracy: 0.9728\n",
      "Epoch 5/20\n",
      "235/235 [==============================] - 5s 22ms/step - loss: 0.0268 - accuracy: 0.9917 - val_loss: 0.0781 - val_accuracy: 0.9807\n",
      "Epoch 6/20\n",
      "235/235 [==============================] - 5s 23ms/step - loss: 0.0206 - accuracy: 0.9933 - val_loss: 0.0912 - val_accuracy: 0.9770\n",
      "Epoch 7/20\n",
      "235/235 [==============================] - 5s 23ms/step - loss: 0.0155 - accuracy: 0.9946 - val_loss: 0.1083 - val_accuracy: 0.9783\n",
      "Epoch 8/20\n",
      "235/235 [==============================] - 5s 21ms/step - loss: 0.0116 - accuracy: 0.9963 - val_loss: 0.0876 - val_accuracy: 0.9810\n",
      "Epoch 9/20\n",
      "235/235 [==============================] - 5s 22ms/step - loss: 0.0098 - accuracy: 0.9971 - val_loss: 0.1003 - val_accuracy: 0.9800\n",
      "Epoch 10/20\n",
      "235/235 [==============================] - 5s 23ms/step - loss: 0.0081 - accuracy: 0.9972 - val_loss: 0.0917 - val_accuracy: 0.9829\n",
      "Epoch 11/20\n",
      "235/235 [==============================] - 6s 25ms/step - loss: 0.0082 - accuracy: 0.9972 - val_loss: 0.0997 - val_accuracy: 0.9828\n",
      "Epoch 12/20\n",
      "235/235 [==============================] - 6s 26ms/step - loss: 0.0058 - accuracy: 0.9980 - val_loss: 0.1124 - val_accuracy: 0.9806\n",
      "Epoch 13/20\n",
      "235/235 [==============================] - 6s 27ms/step - loss: 0.0049 - accuracy: 0.9979 - val_loss: 0.0972 - val_accuracy: 0.9837\n",
      "Epoch 14/20\n",
      "235/235 [==============================] - 5s 23ms/step - loss: 0.0044 - accuracy: 0.9986 - val_loss: 0.1205 - val_accuracy: 0.9799\n",
      "Epoch 15/20\n",
      "235/235 [==============================] - 5s 23ms/step - loss: 0.0045 - accuracy: 0.9985 - val_loss: 0.1186 - val_accuracy: 0.9814\n",
      "Epoch 16/20\n",
      "235/235 [==============================] - 6s 25ms/step - loss: 0.0038 - accuracy: 0.9988 - val_loss: 0.1369 - val_accuracy: 0.9833\n",
      "Epoch 17/20\n",
      "235/235 [==============================] - 6s 26ms/step - loss: 0.0034 - accuracy: 0.9987 - val_loss: 0.1328 - val_accuracy: 0.9819\n",
      "Epoch 18/20\n",
      "235/235 [==============================] - 6s 26ms/step - loss: 0.0045 - accuracy: 0.9989 - val_loss: 0.1263 - val_accuracy: 0.9819\n",
      "Epoch 19/20\n",
      "235/235 [==============================] - 6s 26ms/step - loss: 0.0035 - accuracy: 0.9989 - val_loss: 0.1378 - val_accuracy: 0.9832\n",
      "Epoch 20/20\n",
      "235/235 [==============================] - 6s 24ms/step - loss: 0.0035 - accuracy: 0.9988 - val_loss: 0.1373 - val_accuracy: 0.9823\n"
     ]
    }
   ],
   "source": [
    "#creating network\n",
    "model = Sequential()\n",
    "model.add(Dense(512, activation='relu', input_shape=(dimData,)))\n",
    "model.add(Dense(512, activation='relu'))\n",
    "model.add(Dense(10, activation='softmax'))\n",
    "#compiling to produce nueral network with optimizer root mean square error and categorical loss property and accuracy metrics\n",
    "model.compile(optimizer='rmsprop', loss='categorical_crossentropy', metrics=['accuracy'])\n",
    "history = model.fit(train_data, train_labels_one_hot, batch_size=256, epochs=20, verbose=1,\n",
    "                   validation_data=(test_data, test_labels_one_hot))"
   ]
  },
  {
   "cell_type": "code",
   "execution_count": 14,
   "metadata": {},
   "outputs": [
    {
     "name": "stdout",
     "output_type": "stream",
     "text": [
      "313/313 [==============================] - 1s 3ms/step - loss: 0.1373 - accuracy: 0.9823\n",
      "1875/1875 [==============================] - 7s 3ms/step - loss: 0.0011 - accuracy: 0.9997\n",
      "Evaluation result on Train Data : Loss = 0.0010924709495157003, accuracy = 0.999666690826416\n"
     ]
    }
   ],
   "source": [
    "#evaluating model on testing data and calculating loss and accuracy of testing data\n",
    "[test_loss, test_acc] = model.evaluate(test_data, test_labels_one_hot)\n",
    "#evaluating model on training data and calculating loss and accuracy of training data\n",
    "[train_loss, train_acc] = model.evaluate(train_data, train_labels_one_hot)\n",
    "print(\"Evaluation result on Train Data : Loss = {}, accuracy = {}\".format(train_loss, train_acc))"
   ]
  },
  {
   "cell_type": "code",
   "execution_count": 15,
   "metadata": {},
   "outputs": [
    {
     "data": {
      "image/png": "[encoded data removed]",
      "text/plain": [
       "<Figure size 432x288 with 1 Axes>"
      ]
     },
     "metadata": {
      "needs_background": "light"
     },
     "output_type": "display_data"
    },
    {
     "name": "stdout",
     "output_type": "stream",
     "text": [
      "pred: [7]\n"
     ]
    }
   ],
   "source": [
    "#Q2\n",
    "#predicting model on single image in test data and printing predcited value\n",
    "plt.imshow(test_images[0,:,:],cmap='gray')\n",
    "plt.title('Ground Truth : {}'.format(test_labels[0]))\n",
    "plt.show()\n",
    "pred = model.predict_classes(test_data[[0], :])\n",
    "prediction = pred[0]\n",
    "print(\"pred:\",pred)"
   ]
  },
  {
   "cell_type": "code",
   "execution_count": null,
   "metadata": {},
   "outputs": [],
   "source": [
    "#Q3\n"
   ]
  }
 ],
 "metadata": {
  "kernelspec": {
   "display_name": "Python 3",
   "language": "python",
   "name": "python3"
  },
  "language_info": {
   "codemirror_mode": {
    "name": "ipython",
    "version": 3
   },
   "file_extension": ".py",
   "mimetype": "text/x-python",
   "name": "python",
   "nbconvert_exporter": "python",
   "pygments_lexer": "ipython3",
   "version": "3.7.6"
  }
 },
 "nbformat": 4,
 "nbformat_minor": 4
}
