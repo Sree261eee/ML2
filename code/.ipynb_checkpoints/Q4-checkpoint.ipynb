{
 "cells": [
  {
   "cell_type": "code",
   "execution_count": null,
   "metadata": {},
   "outputs": [
    {
     "name": "stdout",
     "output_type": "stream",
     "text": [
      "Epoch 1/20\n",
      "235/235 [==============================] - 24s 91ms/step - loss: 18.3346 - accuracy: 0.7938 - val_loss: 1.3074 - val_accuracy: 0.8646\n",
      "Epoch 2/20\n",
      "235/235 [==============================] - 6s 24ms/step - loss: 0.4401 - accuracy: 0.9399 - val_loss: 0.4303 - val_accuracy: 0.9355\n",
      "Epoch 3/20\n",
      "235/235 [==============================] - 6s 26ms/step - loss: 0.2536 - accuracy: 0.9578 - val_loss: 0.6079 - val_accuracy: 0.9031\n",
      "Epoch 4/20\n",
      "235/235 [==============================] - 5s 23ms/step - loss: 0.1885 - accuracy: 0.9645 - val_loss: 0.2817 - val_accuracy: 0.9551\n",
      "Epoch 5/20\n",
      "206/235 [=========================>....] - ETA: 0s - loss: 0.1543 - accuracy: 0.9706"
     ]
    }
   ],
   "source": [
    "from keras import Sequential                    #importing all required libraries from keras\n",
    "from keras.datasets import mnist                #getting dataset from mnist\n",
    "import numpy as np\n",
    "import matplotlib.pyplot as plt\n",
    "from keras.layers import Dense\n",
    "from keras.utils import to_categorical\n",
    "(train_images,train_labels),(test_images, test_labels) = mnist.load_data()\n",
    "#display the first image in the training data\n",
    "plt.imshow(train_images[0,:,:],cmap='gray')\n",
    "plt.title('Ground Truth : {}'.format(train_labels[0]))\n",
    "# plt.show()\n",
    "#process the data\n",
    "#1. convert each image of shape 28*28 to 784 dimensional which will be fed to the network as a single feature\n",
    "dimData = np.prod(train_images.shape[1:])\n",
    "train_data = train_images.reshape(train_images.shape[0],dimData)\n",
    "test_data = test_images.reshape(test_images.shape[0],dimData)\n",
    "#convert data to float and scale values between 0 and 1\n",
    "train_data = train_data.astype('float')\n",
    "test_data = test_data.astype('float')\n",
    "#scale data\n",
    "#train_data /=255.0\n",
    "#test_data /=255.0\n",
    "#change the labels frominteger to one-hot encoding\n",
    "train_labels_one_hot = to_categorical(train_labels)\n",
    "test_labels_one_hot = to_categorical(test_labels)\n",
    "#creating network\n",
    "model = Sequential()\n",
    "model.add(Dense(512, activation='relu', input_shape=(dimData,))) #added hidden layers\n",
    "model.add(Dense(512, activation='relu'))\n",
    "model.add(Dense(10, activation='softmax'))\n",
    "#compiling to produce nueral network with optimizer root mean square prop and categorical loss property and accuracy metrics\n",
    "model.compile(optimizer='rmsprop', loss='categorical_crossentropy', metrics=['accuracy'])\n",
    "history = model.fit(train_data, train_labels_one_hot, batch_size=256, epochs=20, verbose=1,\n",
    "                   validation_data=(test_data, test_labels_one_hot))\n",
    "#evaluating model on testing data and calculating loss and accuracy of testing data\n",
    "[test_loss, test_acc] = model.evaluate(test_data, test_labels_one_hot)\n",
    "print(\"Evaluation result on Test Data : Loss = {}, accuracy = {}\".format(test_loss, test_acc))\n",
    "#evaluating model on training data and calculating loss and accuracy of traininf data\n",
    "[train_loss, train_acc] = model.evaluate(train_data, train_labels_one_hot)\n",
    "print(\"Evaluation result on Train Data : Loss = {}, accuracy = {}\".format(train_loss, train_acc))"
   ]
  },
  {
   "cell_type": "code",
   "execution_count": 1,
   "metadata": {},
   "outputs": [
    {
     "data": {
      "text/plain": [
       "'C:\\\\Users\\\\Administrator'"
      ]
     },
     "execution_count": 1,
     "metadata": {},
     "output_type": "execute_result"
    }
   ],
   "source": [
    "pwd"
   ]
  },
  {
   "cell_type": "code",
   "execution_count": null,
   "metadata": {},
   "outputs": [],
   "source": []
  }
 ],
 "metadata": {
  "kernelspec": {
   "display_name": "Python 3",
   "language": "python",
   "name": "python3"
  },
  "language_info": {
   "codemirror_mode": {
    "name": "ipython",
    "version": 3
   },
   "file_extension": ".py",
   "mimetype": "text/x-python",
   "name": "python",
   "nbconvert_exporter": "python",
   "pygments_lexer": "ipython3",
   "version": "3.7.6"
  }
 },
 "nbformat": 4,
 "nbformat_minor": 4
}
