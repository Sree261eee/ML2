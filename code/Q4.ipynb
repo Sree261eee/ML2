{
 "cells": [
  {
   "cell_type": "code",
   "execution_count": 1,
   "metadata": {},
   "outputs": [
    {
     "name": "stdout",
     "output_type": "stream",
     "text": [
      "Epoch 1/20\n",
      "235/235 [==============================] - 24s 91ms/step - loss: 18.3346 - accuracy: 0.7938 - val_loss: 1.3074 - val_accuracy: 0.8646\n",
      "Epoch 2/20\n",
      "235/235 [==============================] - 6s 24ms/step - loss: 0.4401 - accuracy: 0.9399 - val_loss: 0.4303 - val_accuracy: 0.9355\n",
      "Epoch 3/20\n",
      "235/235 [==============================] - 6s 26ms/step - loss: 0.2536 - accuracy: 0.9578 - val_loss: 0.6079 - val_accuracy: 0.9031\n",
      "Epoch 4/20\n",
      "235/235 [==============================] - 5s 23ms/step - loss: 0.1885 - accuracy: 0.9645 - val_loss: 0.2817 - val_accuracy: 0.9551\n",
      "Epoch 5/20\n",
      "235/235 [==============================] - 6s 24ms/step - loss: 0.1567 - accuracy: 0.9705 - val_loss: 0.2629 - val_accuracy: 0.9682\n",
      "Epoch 6/20\n",
      "235/235 [==============================] - 6s 27ms/step - loss: 0.1539 - accuracy: 0.9737 - val_loss: 0.3353 - val_accuracy: 0.9604\n",
      "Epoch 7/20\n",
      "235/235 [==============================] - 6s 24ms/step - loss: 0.1388 - accuracy: 0.9777 - val_loss: 0.2945 - val_accuracy: 0.9621\n",
      "Epoch 8/20\n",
      "235/235 [==============================] - 6s 27ms/step - loss: 0.1206 - accuracy: 0.9801 - val_loss: 0.3424 - val_accuracy: 0.9589\n",
      "Epoch 9/20\n",
      "235/235 [==============================] - 6s 26ms/step - loss: 0.1090 - accuracy: 0.9836 - val_loss: 0.3356 - val_accuracy: 0.9697\n",
      "Epoch 10/20\n",
      "235/235 [==============================] - 6s 27ms/step - loss: 0.1015 - accuracy: 0.9852 - val_loss: 0.4175 - val_accuracy: 0.9653\n",
      "Epoch 11/20\n",
      "235/235 [==============================] - 6s 25ms/step - loss: 0.1156 - accuracy: 0.9849 - val_loss: 0.3956 - val_accuracy: 0.9707\n",
      "Epoch 12/20\n",
      "235/235 [==============================] - 6s 26ms/step - loss: 0.1131 - accuracy: 0.9876 - val_loss: 0.4905 - val_accuracy: 0.9726\n",
      "Epoch 13/20\n",
      "235/235 [==============================] - 7s 28ms/step - loss: 0.1044 - accuracy: 0.9867 - val_loss: 0.6262 - val_accuracy: 0.9541\n",
      "Epoch 14/20\n",
      "235/235 [==============================] - 6s 27ms/step - loss: 0.1154 - accuracy: 0.9874 - val_loss: 0.4208 - val_accuracy: 0.9733\n",
      "Epoch 15/20\n",
      "235/235 [==============================] - 6s 27ms/step - loss: 0.0915 - accuracy: 0.9889 - val_loss: 0.5167 - val_accuracy: 0.9743\n",
      "Epoch 16/20\n",
      "235/235 [==============================] - 7s 29ms/step - loss: 0.0889 - accuracy: 0.9902 - val_loss: 0.5136 - val_accuracy: 0.9734\n",
      "Epoch 17/20\n",
      "235/235 [==============================] - 7s 30ms/step - loss: 0.0941 - accuracy: 0.9906 - val_loss: 0.5195 - val_accuracy: 0.9767\n",
      "Epoch 18/20\n",
      "235/235 [==============================] - 7s 31ms/step - loss: 0.0908 - accuracy: 0.9909 - val_loss: 0.4887 - val_accuracy: 0.9764\n",
      "Epoch 19/20\n",
      "235/235 [==============================] - 6s 27ms/step - loss: 0.0703 - accuracy: 0.9925 - val_loss: 0.6683 - val_accuracy: 0.9734\n",
      "Epoch 20/20\n",
      "235/235 [==============================] - 7s 28ms/step - loss: 0.0801 - accuracy: 0.9921 - val_loss: 0.6511 - val_accuracy: 0.9728\n",
      "313/313 [==============================] - 1s 4ms/step - loss: 0.6511 - accuracy: 0.9728\n",
      "Evaluation result on Test Data : Loss = 0.651118814945221, accuracy = 0.9728000164031982\n",
      "1875/1875 [==============================] - 8s 4ms/step - loss: 0.1167 - accuracy: 0.9896\n",
      "Evaluation result on Train Data : Loss = 0.11665332317352295, accuracy = 0.9895833134651184\n"
     ]
    },
    {
     "data": {
      "image/png": "[encoded data removed]",
      "text/plain": [
       "<Figure size 432x288 with 1 Axes>"
      ]
     },
     "metadata": {
      "needs_background": "light"
     },
     "output_type": "display_data"
    }
   ],
   "source": [
    "from keras import Sequential                    #importing all required libraries from keras\n",
    "from keras.datasets import mnist                #getting dataset from mnist\n",
    "import numpy as np\n",
    "import matplotlib.pyplot as plt\n",
    "from keras.layers import Dense\n",
    "from keras.utils import to_categorical\n",
    "(train_images,train_labels),(test_images, test_labels) = mnist.load_data()\n",
    "#display the first image in the training data\n",
    "plt.imshow(train_images[0,:,:],cmap='gray')\n",
    "plt.title('Ground Truth : {}'.format(train_labels[0]))\n",
    "# plt.show()\n",
    "#process the data\n",
    "#1. convert each image of shape 28*28 to 784 dimensional which will be fed to the network as a single feature\n",
    "dimData = np.prod(train_images.shape[1:])\n",
    "train_data = train_images.reshape(train_images.shape[0],dimData)\n",
    "test_data = test_images.reshape(test_images.shape[0],dimData)\n",
    "#convert data to float and scale values between 0 and 1\n",
    "train_data = train_data.astype('float')\n",
    "test_data = test_data.astype('float')\n",
    "#scale data\n",
    "#train_data /=255.0\n",
    "#test_data /=255.0\n",
    "#change the labels frominteger to one-hot encoding\n",
    "train_labels_one_hot = to_categorical(train_labels)\n",
    "test_labels_one_hot = to_categorical(test_labels)\n",
    "#creating network\n",
    "model = Sequential()\n",
    "model.add(Dense(512, activation='relu', input_shape=(dimData,))) #added hidden layers\n",
    "model.add(Dense(512, activation='relu'))\n",
    "model.add(Dense(10, activation='softmax'))\n",
    "#compiling to produce nueral network with optimizer root mean square prop and categorical loss property and accuracy metrics\n",
    "model.compile(optimizer='rmsprop', loss='categorical_crossentropy', metrics=['accuracy'])\n",
    "history = model.fit(train_data, train_labels_one_hot, batch_size=256, epochs=20, verbose=1,\n",
    "                   validation_data=(test_data, test_labels_one_hot))\n",
    "#evaluating model on testing data and calculating loss and accuracy of testing data\n",
    "[test_loss, test_acc] = model.evaluate(test_data, test_labels_one_hot)\n",
    "print(\"Evaluation result on Test Data : Loss = {}, accuracy = {}\".format(test_loss, test_acc))\n",
    "#evaluating model on training data and calculating loss and accuracy of traininf data\n",
    "[train_loss, train_acc] = model.evaluate(train_data, train_labels_one_hot)\n",
    "print(\"Evaluation result on Train Data : Loss = {}, accuracy = {}\".format(train_loss, train_acc))"
   ]
  },
  {
   "cell_type": "code",
   "execution_count": 1,
   "metadata": {},
   "outputs": [
    {
     "data": {
      "text/plain": [
       "'C:\\\\Users\\\\Administrator'"
      ]
     },
     "execution_count": 1,
     "metadata": {},
     "output_type": "execute_result"
    }
   ],
   "source": [
    "pwd"
   ]
  },
  {
   "cell_type": "code",
   "execution_count": null,
   "metadata": {},
   "outputs": [],
   "source": []
  }
 ],
 "metadata": {
  "kernelspec": {
   "display_name": "Python 3",
   "language": "python",
   "name": "python3"
  },
  "language_info": {
   "codemirror_mode": {
    "name": "ipython",
    "version": 3
   },
   "file_extension": ".py",
   "mimetype": "text/x-python",
   "name": "python",
   "nbconvert_exporter": "python",
   "pygments_lexer": "ipython3",
   "version": "3.7.6"
  }
 },
 "nbformat": 4,
 "nbformat_minor": 4
}
