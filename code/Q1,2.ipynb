{
 "cells": [
  {
   "cell_type": "code",
   "execution_count": 1,
   "metadata": {},
   "outputs": [
    {
     "data": {
      "image/png": "[encoded data removed]",
      "text/plain": [
       "<Figure size 432x288 with 1 Axes>"
      ]
     },
     "metadata": {
      "needs_background": "light"
     },
     "output_type": "display_data"
    }
   ],
   "source": [
    "from keras import Sequential                             #importing all required libraries from keras\n",
    "from keras.datasets import mnist                          #getting dataset from mnist\n",
    "import numpy as np\n",
    "import matplotlib.pyplot as plt\n",
    "from keras.layers import Dense\n",
    "from keras.utils import to_categorical\n",
    "(train_images,train_labels),(test_images, test_labels) = mnist.load_data()\n",
    "#display the first image in the testing data\n",
    "plt.imshow(test_images[0,:,:],cmap='gray')\n",
    "plt.title('Ground Truth : {}'.format(test_labels[0]))\n",
    "plt.show()\n",
    "#process the data\n",
    "#1. convert each image of shape 28*28 to 784 dimensional which will be fed to the network as a single feature\n",
    "dimData = np.prod(train_images.shape[1:])\n",
    "train_data = train_images.reshape(train_images.shape[0],dimData)\n",
    "test_data = test_images.reshape(test_images.shape[0],dimData)"
   ]
  },
  {
   "cell_type": "code",
   "execution_count": 3,
   "metadata": {},
   "outputs": [],
   "source": [
    "#convert data to float and scale values between 0 and 1\n",
    "train_data = train_data.astype('float')\n",
    "test_data = test_data.astype('float')\n",
    "#scale data as input data contains from 0-255\n",
    "train_data /=255.0\n",
    "test_data /=255.0"
   ]
  },
  {
   "cell_type": "code",
   "execution_count": 4,
   "metadata": {},
   "outputs": [
    {
     "data": {
      "text/plain": [
       "array([[0., 0., 0., ..., 0., 0., 0.],\n",
       "       [0., 0., 0., ..., 0., 0., 0.],\n",
       "       [0., 0., 0., ..., 0., 0., 0.],\n",
       "       ...,\n",
       "       [0., 0., 0., ..., 0., 0., 0.],\n",
       "       [0., 0., 0., ..., 0., 0., 0.],\n",
       "       [0., 0., 0., ..., 0., 0., 0.]])"
      ]
     },
     "execution_count": 4,
     "metadata": {},
     "output_type": "execute_result"
    }
   ],
   "source": [
    "train_data"
   ]
  },
  {
   "cell_type": "code",
   "execution_count": 5,
   "metadata": {},
   "outputs": [],
   "source": [
    "#change the labels frominteger to one-hot encoding\n",
    "train_labels_one_hot = to_categorical(train_labels)\n",
    "test_labels_one_hot = to_categorical(test_labels)"
   ]
  },
  {
   "cell_type": "code",
   "execution_count": 6,
   "metadata": {},
   "outputs": [
    {
     "data": {
      "text/plain": [
       "array([[0., 0., 0., ..., 0., 0., 0.],\n",
       "       [1., 0., 0., ..., 0., 0., 0.],\n",
       "       [0., 0., 0., ..., 0., 0., 0.],\n",
       "       ...,\n",
       "       [0., 0., 0., ..., 0., 0., 0.],\n",
       "       [0., 0., 0., ..., 0., 0., 0.],\n",
       "       [0., 0., 0., ..., 0., 1., 0.]], dtype=float32)"
      ]
     },
     "execution_count": 6,
     "metadata": {},
     "output_type": "execute_result"
    }
   ],
   "source": [
    "train_labels_one_hot"
   ]
  },
  {
   "cell_type": "code",
   "execution_count": 7,
   "metadata": {
    "scrolled": true
   },
   "outputs": [
    {
     "name": "stdout",
     "output_type": "stream",
     "text": [
      "Epoch 1/20\n",
      "235/235 [==============================] - 7s 27ms/step - loss: 1.5689 - accuracy: 0.5211 - val_loss: 0.5640 - val_accuracy: 0.8242\n",
      "Epoch 2/20\n",
      "235/235 [==============================] - 6s 25ms/step - loss: 0.4964 - accuracy: 0.8499 - val_loss: 0.3685 - val_accuracy: 0.8919\n",
      "Epoch 3/20\n",
      "235/235 [==============================] - 6s 24ms/step - loss: 0.3620 - accuracy: 0.8919 - val_loss: 0.3105 - val_accuracy: 0.9093\n",
      "Epoch 4/20\n",
      "235/235 [==============================] - 5s 23ms/step - loss: 0.3117 - accuracy: 0.9089 - val_loss: 0.3137 - val_accuracy: 0.9050\n",
      "Epoch 5/20\n",
      "235/235 [==============================] - 5s 23ms/step - loss: 0.2701 - accuracy: 0.9195 - val_loss: 0.2608 - val_accuracy: 0.9213\n",
      "Epoch 6/20\n",
      "235/235 [==============================] - 6s 25ms/step - loss: 0.2408 - accuracy: 0.9289 - val_loss: 0.2311 - val_accuracy: 0.9326\n",
      "Epoch 7/20\n",
      "235/235 [==============================] - 6s 24ms/step - loss: 0.2089 - accuracy: 0.9374 - val_loss: 0.2067 - val_accuracy: 0.9374\n",
      "Epoch 8/20\n",
      "235/235 [==============================] - 5s 23ms/step - loss: 0.1821 - accuracy: 0.9458 - val_loss: 0.1950 - val_accuracy: 0.9400\n",
      "Epoch 9/20\n",
      "235/235 [==============================] - 6s 26ms/step - loss: 0.1633 - accuracy: 0.9514 - val_loss: 0.1747 - val_accuracy: 0.9454\n",
      "Epoch 10/20\n",
      "235/235 [==============================] - 6s 25ms/step - loss: 0.1467 - accuracy: 0.9564 - val_loss: 0.1462 - val_accuracy: 0.9544\n",
      "Epoch 11/20\n",
      "235/235 [==============================] - 6s 26ms/step - loss: 0.1312 - accuracy: 0.9611 - val_loss: 0.1438 - val_accuracy: 0.9570\n",
      "Epoch 12/20\n",
      "235/235 [==============================] - 6s 26ms/step - loss: 0.1133 - accuracy: 0.9665 - val_loss: 0.1390 - val_accuracy: 0.9569\n",
      "Epoch 13/20\n",
      "235/235 [==============================] - 6s 25ms/step - loss: 0.1050 - accuracy: 0.9683 - val_loss: 0.1149 - val_accuracy: 0.9639\n",
      "Epoch 14/20\n",
      "235/235 [==============================] - 6s 27ms/step - loss: 0.0957 - accuracy: 0.9724 - val_loss: 0.1060 - val_accuracy: 0.9669\n",
      "Epoch 15/20\n",
      "235/235 [==============================] - 6s 25ms/step - loss: 0.0888 - accuracy: 0.9735 - val_loss: 0.1039 - val_accuracy: 0.9686\n",
      "Epoch 16/20\n",
      "235/235 [==============================] - 6s 26ms/step - loss: 0.0818 - accuracy: 0.9755 - val_loss: 0.1119 - val_accuracy: 0.9648\n",
      "Epoch 17/20\n",
      "235/235 [==============================] - 6s 27ms/step - loss: 0.0731 - accuracy: 0.9772 - val_loss: 0.0912 - val_accuracy: 0.9720\n",
      "Epoch 18/20\n",
      "235/235 [==============================] - 6s 25ms/step - loss: 0.0669 - accuracy: 0.9798 - val_loss: 0.0902 - val_accuracy: 0.9731\n",
      "Epoch 19/20\n",
      "235/235 [==============================] - 7s 28ms/step - loss: 0.0603 - accuracy: 0.9813 - val_loss: 0.1008 - val_accuracy: 0.9711\n",
      "Epoch 20/20\n",
      "235/235 [==============================] - 6s 27ms/step - loss: 0.0579 - accuracy: 0.9819 - val_loss: 0.0959 - val_accuracy: 0.9709\n"
     ]
    }
   ],
   "source": [
    "#creating network\n",
    "model = Sequential()\n",
    "model.add(Dense(512, activation='relu', input_shape=(dimData,)))\n",
    "model.add(Dense(512, activation='relu'))\n",
    "model.add(Dense(10, activation='softmax'))\n",
    "#compiling to produce nueral network with optimizer root mean square error and categorical loss property and accuracy metrics\n",
    "model.compile(optimizer='rmsprop', loss='categorical_crossentropy', metrics=['accuracy'])\n",
    "history = model.fit(train_data, train_labels_one_hot, batch_size=256, epochs=20, verbose=1,\n",
    "                   validation_data=(test_data, test_labels_one_hot))"
   ]
  },
  {
   "cell_type": "code",
   "execution_count": 14,
   "metadata": {},
   "outputs": [
    {
     "name": "stdout",
     "output_type": "stream",
     "text": [
      "313/313 [==============================] - 1s 3ms/step - loss: 0.1373 - accuracy: 0.9823\n",
      "1875/1875 [==============================] - 7s 3ms/step - loss: 0.0011 - accuracy: 0.9997\n",
      "Evaluation result on Train Data : Loss = 0.0010924709495157003, accuracy = 0.999666690826416\n"
     ]
    }
   ],
   "source": [
    "#evaluating model on testing data and calculating loss and accuracy of testing data\n",
    "[test_loss, test_acc] = model.evaluate(test_data, test_labels_one_hot)\n",
    "#evaluating model on training data and calculating loss and accuracy of training data\n",
    "[train_loss, train_acc] = model.evaluate(train_data, train_labels_one_hot)\n",
    "print(\"Evaluation result on Train Data : Loss = {}, accuracy = {}\".format(train_loss, train_acc))"
   ]
  },
  {
   "cell_type": "code",
   "execution_count": 8,
   "metadata": {},
   "outputs": [
    {
     "data": {
      "image/png": "[encoded data removed]",
      "text/plain": [
       "<Figure size 432x288 with 1 Axes>"
      ]
     },
     "metadata": {
      "needs_background": "light"
     },
     "output_type": "display_data"
    },
    {
     "name": "stdout",
     "output_type": "stream",
     "text": [
      "pred: [7]\n"
     ]
    },
    {
     "name": "stderr",
     "output_type": "stream",
     "text": [
      "C:\\Users\\Administrator\\anaconda3\\lib\\site-packages\\tensorflow\\python\\keras\\engine\\sequential.py:450: UserWarning: `model.predict_classes()` is deprecated and will be removed after 2021-01-01. Please use instead:* `np.argmax(model.predict(x), axis=-1)`,   if your model does multi-class classification   (e.g. if it uses a `softmax` last-layer activation).* `(model.predict(x) > 0.5).astype(\"int32\")`,   if your model does binary classification   (e.g. if it uses a `sigmoid` last-layer activation).\n",
      "  warnings.warn('`model.predict_classes()` is deprecated and '\n"
     ]
    }
   ],
   "source": [
    "#Q2\n",
    "#predicting model on single image in test data and printing predcited value\n",
    "plt.imshow(test_images[0,:,:],cmap='gray')\n",
    "plt.title('Ground Truth : {}'.format(test_labels[0]))\n",
    "plt.show()\n",
    "pred = model.predict_classes(test_data[[0], :])\n",
    "prediction = pred[0]\n",
    "print(\"pred:\",pred)"
   ]
  },
  {
   "cell_type": "code",
   "execution_count": null,
   "metadata": {},
   "outputs": [],
   "source": [
    "\n"
   ]
  }
 ],
 "metadata": {
  "kernelspec": {
   "display_name": "Python 3",
   "language": "python",
   "name": "python3"
  },
  "language_info": {
   "codemirror_mode": {
    "name": "ipython",
    "version": 3
   },
   "file_extension": ".py",
   "mimetype": "text/x-python",
   "name": "python",
   "nbconvert_exporter": "python",
   "pygments_lexer": "ipython3",
   "version": "3.7.6"
  }
 },
 "nbformat": 4,
 "nbformat_minor": 4
}
